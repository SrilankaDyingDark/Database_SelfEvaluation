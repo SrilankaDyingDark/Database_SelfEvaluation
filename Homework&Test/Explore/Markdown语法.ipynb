{
 "cells": [
  {
   "cell_type": "markdown",
   "metadata": {
    "pycharm": {
     "name": "#%% md\n"
    }
   },
   "source": [
    "# Markdown 标题\n",
    "使用 # 号标记\n",
    "可表示 1-6 级标题，一级标题对应一个 # 号，二级标题对应两个 # 号，以此类推。"
   ]
  },
  {
   "cell_type": "code",
   "execution_count": null,
   "metadata": {
    "pycharm": {
     "is_executing": true,
     "name": "#%%\n"
    },
    "vscode": {
     "languageId": "html"
    }
   },
   "outputs": [],
   "source": [
    "# 一级标题\n",
    "## 二级标题\n",
    "### 三级标题\n",
    "#### 四级标题\n",
    "##### 五级标题\n",
    "###### 六级标题"
   ]
  },
  {
   "cell_type": "markdown",
   "metadata": {
    "pycharm": {
     "name": "#%% md\n"
    }
   },
   "source": [
    "***"
   ]
  },
  {
   "cell_type": "markdown",
   "metadata": {
    "pycharm": {
     "name": "#%% md\n"
    }
   },
   "source": [
    "# Markdown 段落格式\n",
    "## 换行\n",
    "方法一:两个以上空格加上回车\n",
    "\n",
    "方法二:使用空行"
   ]
  },
  {
   "cell_type": "code",
   "execution_count": null,
   "metadata": {
    "pycharm": {
     "name": "#%%\n"
    },
    "vscode": {
     "languageId": "html"
    }
   },
   "outputs": [],
   "source": [
    "一级标题  \n",
    "二级标题 \n",
    "\n",
    "正文内容"
   ]
  },
  {
   "cell_type": "markdown",
   "metadata": {
    "pycharm": {
     "name": "#%% md\n"
    }
   },
   "source": [
    "## 字体\n",
    "*斜体文本*  \n",
    "_斜体文本_  \n",
    "**粗体文本**  \n",
    "__粗体文本__  \n",
    "***粗斜体文本***  \n",
    "___粗斜体文本___  "
   ]
  },
  {
   "cell_type": "code",
   "execution_count": null,
   "metadata": {
    "pycharm": {
     "name": "#%%\n"
    },
    "vscode": {
     "languageId": "html"
    }
   },
   "outputs": [],
   "source": [
    "*斜体文本*\n",
    "_斜体文本_\n",
    "**粗体文本**\n",
    "__粗体文本__\n",
    "***粗斜体文本***\n",
    "___粗斜体文本___"
   ]
  },
  {
   "cell_type": "markdown",
   "metadata": {
    "pycharm": {
     "name": "#%% md\n"
    }
   },
   "source": [
    "## 分隔线\n",
    "在一行中用三个以上的星号、减号、底线来建立一个分隔线，行内不能有其他东西。你也可以在星号或是减号中间插入空格。\n",
    "\n",
    "***\n",
    "\n",
    "* * *\n",
    "\n",
    "*****\n",
    "\n",
    "- - -\n",
    "\n",
    "----------"
   ]
  },
  {
   "cell_type": "code",
   "execution_count": null,
   "metadata": {
    "pycharm": {
     "name": "#%%\n"
    },
    "vscode": {
     "languageId": "html"
    }
   },
   "outputs": [],
   "source": [
    "***\n",
    "\n",
    "* * *\n",
    "\n",
    "********\n",
    "\n",
    "- - - - -\n",
    "\n",
    "-------------"
   ]
  },
  {
   "cell_type": "markdown",
   "metadata": {
    "pycharm": {
     "name": "#%% md\n"
    }
   },
   "source": [
    "## 删除线\n",
    "在文字的两端加上两个波浪线 ~~ 即可\n",
    "\n",
    "~~删除这行文字~~"
   ]
  },
  {
   "cell_type": "code",
   "execution_count": null,
   "metadata": {
    "pycharm": {
     "name": "#%%\n"
    },
    "vscode": {
     "languageId": "html"
    }
   },
   "outputs": [],
   "source": [
    "~~BAIDU.COM~~"
   ]
  },
  {
   "cell_type": "markdown",
   "metadata": {
    "pycharm": {
     "name": "#%% md\n"
    }
   },
   "source": [
    "## 下划线\n",
    "下划线可以通过 HTML 的 <u> 标签来实现  \n",
    "<u>带下划线文本</u>"
   ]
  },
  {
   "cell_type": "code",
   "execution_count": null,
   "metadata": {
    "pycharm": {
     "name": "#%%\n"
    },
    "vscode": {
     "languageId": "html"
    }
   },
   "outputs": [],
   "source": [
    "<u>带下划线文本</u>"
   ]
  },
  {
   "cell_type": "markdown",
   "metadata": {
    "pycharm": {
     "name": "#%% md\n"
    }
   },
   "source": [
    "***"
   ]
  },
  {
   "cell_type": "markdown",
   "metadata": {
    "pycharm": {
     "name": "#%% md\n"
    }
   },
   "source": [
    "# Markdown 列表\n",
    "## 无序列表\n",
    "无序列表使用星号(*)、加号(+)或是减号(-)作为列表标记，这些标记后面要添加一个空格，然后再填写内容\n",
    "- 列表1\n",
    "- 列表2"
   ]
  },
  {
   "cell_type": "code",
   "execution_count": null,
   "metadata": {
    "pycharm": {
     "name": "#%%\n"
    },
    "vscode": {
     "languageId": "html"
    }
   },
   "outputs": [],
   "source": [
    "- 列表1\n",
    "- 列表2"
   ]
  },
  {
   "cell_type": "markdown",
   "metadata": {
    "pycharm": {
     "name": "#%% md\n"
    }
   },
   "source": [
    "##  有序列表\n",
    "使用数字并加上 . 号来表示\n",
    "1. 第一项\n",
    "2. 第二项\n",
    "3. 第三项"
   ]
  },
  {
   "cell_type": "code",
   "execution_count": null,
   "metadata": {
    "pycharm": {
     "name": "#%%\n"
    },
    "vscode": {
     "languageId": "html"
    }
   },
   "outputs": [],
   "source": [
    "1. 第一项\n",
    "2. 第二项\n",
    "3. 第三项"
   ]
  },
  {
   "cell_type": "markdown",
   "metadata": {
    "pycharm": {
     "name": "#%% md\n"
    }
   },
   "source": [
    "## 列表嵌套\n",
    "在子列表中的选项前面添加两个或四个空格即可：\n",
    "- 列表1\n",
    "  - 列表1.1\n",
    "  - 列表1.2\n",
    "- 列表2\n",
    "  - 列表2.1\n",
    "  - 列表2.2"
   ]
  },
  {
   "cell_type": "code",
   "execution_count": null,
   "metadata": {
    "pycharm": {
     "name": "#%%\n"
    },
    "vscode": {
     "languageId": "html"
    }
   },
   "outputs": [],
   "source": [
    "1. 第一项：\n",
    "    - 第一项嵌套的第一个元素\n",
    "    - 第一项嵌套的第二个元素\n",
    "2. 第二项：\n",
    "    - 第二项嵌套的第一个元素\n",
    "    - 第二项嵌套的第二个元素"
   ]
  },
  {
   "cell_type": "markdown",
   "metadata": {
    "pycharm": {
     "name": "#%% md\n"
    }
   },
   "source": [
    "***"
   ]
  },
  {
   "cell_type": "markdown",
   "metadata": {
    "pycharm": {
     "name": "#%% md\n"
    }
   },
   "source": [
    "# Markdown 区块\n",
    "## 创建区块\n",
    "在段落开头使用 > 符号 ，然后后面紧跟一个空格符号：\n",
    "\n",
    "> 区块引用  \n",
    "> 菜鸟教程  \n",
    "> 学的不仅是技术更是梦想"
   ]
  },
  {
   "cell_type": "code",
   "execution_count": null,
   "metadata": {
    "pycharm": {
     "name": "#%%\n"
    },
    "vscode": {
     "languageId": "html"
    }
   },
   "outputs": [],
   "source": [
    "> 区块引用\n",
    "> 菜鸟教程\n",
    "> 学的不仅是技术更是梦想"
   ]
  },
  {
   "cell_type": "markdown",
   "metadata": {
    "pycharm": {
     "name": "#%% md\n"
    }
   },
   "source": [
    "## 区块嵌套\n",
    "一个 > 符号是最外层，两个 > 符号是第一层嵌套，以此类推：\n",
    "> 最外层\n",
    "> > 第一层嵌套\n",
    "> > > 第二层嵌套"
   ]
  },
  {
   "cell_type": "code",
   "execution_count": null,
   "metadata": {
    "pycharm": {
     "name": "#%%\n"
    },
    "vscode": {
     "languageId": "html"
    }
   },
   "outputs": [],
   "source": [
    "> 最外层\n",
    "> > 第一层嵌套\n",
    "> > > 第二层嵌套"
   ]
  },
  {
   "cell_type": "markdown",
   "metadata": {
    "pycharm": {
     "name": "#%% md\n"
    }
   },
   "source": [
    "## 区块中使用列表\n",
    "> 区块中使用列表\n",
    "> 1. 第一项\n",
    "> 2. 第二项\n",
    "> + 第一项\n",
    "> + 第二项\n",
    "> + 第三项"
   ]
  },
  {
   "cell_type": "code",
   "execution_count": null,
   "metadata": {
    "pycharm": {
     "name": "#%%\n"
    },
    "vscode": {
     "languageId": "html"
    }
   },
   "outputs": [],
   "source": [
    "> 区块中使用列表\n",
    "> 1. 第一项\n",
    "> 2. 第二项\n",
    "> + 第一项\n",
    "> + 第二项\n",
    "> + 第三项"
   ]
  },
  {
   "cell_type": "markdown",
   "metadata": {
    "pycharm": {
     "name": "#%% md\n"
    }
   },
   "source": [
    "## 列表中使用区块\n",
    "要在列表项目内放进区块，那么就需要在 > 前添加四个空格的缩进。\n",
    "* 第一项\n",
    "    > 菜鸟教程  \n",
    "    > 学的不仅是技术更是梦想\n",
    "* 第二项"
   ]
  },
  {
   "cell_type": "code",
   "execution_count": null,
   "metadata": {
    "pycharm": {
     "name": "#%%\n"
    },
    "vscode": {
     "languageId": "html"
    }
   },
   "outputs": [],
   "source": [
    "* 第一项\n",
    "    > 菜鸟教程\n",
    "    > 学的不仅是技术更是梦想\n",
    "* 第二项"
   ]
  },
  {
   "cell_type": "markdown",
   "metadata": {
    "pycharm": {
     "name": "#%% md\n"
    }
   },
   "source": [
    "***"
   ]
  },
  {
   "cell_type": "markdown",
   "metadata": {
    "pycharm": {
     "name": "#%% md\n"
    }
   },
   "source": [
    "# Markdown 代码\n",
    "## 段落上的一个函数或片段的代码\n",
    "可以用反引号把它包起来（`），例如：\n",
    "\n",
    "`printf()` 函数"
   ]
  },
  {
   "cell_type": "code",
   "execution_count": null,
   "metadata": {
    "pycharm": {
     "name": "#%%\n"
    },
    "vscode": {
     "languageId": "html"
    }
   },
   "outputs": [],
   "source": [
    "`printf()` 函数"
   ]
  },
  {
   "cell_type": "markdown",
   "metadata": {
    "pycharm": {
     "name": "#%% md\n"
    }
   },
   "source": [
    "## 代码区块\n",
    "使用 4 个空格或者一个制表符（Tab 键）。\n",
    "\n",
    "    a=10\n",
    "    b=20\n",
    "    c=a+b\n",
    "    print(c)\n",
    "\n",
    "也可以用 ``` 包裹一段代码，并指定一种语言（也可以不指定）：\n",
    "\n",
    "```python\n",
    "print(\"Hello, world!\")\n",
    "```"
   ]
  },
  {
   "cell_type": "code",
   "execution_count": null,
   "metadata": {
    "vscode": {
     "languageId": "html"
    }
   },
   "outputs": [],
   "source": [
    "```python\n",
    "print(\"Hello, world!\")\n",
    "```"
   ]
  },
  {
   "cell_type": "markdown",
   "metadata": {
    "pycharm": {
     "name": "#%% md\n"
    }
   },
   "source": [
    "***"
   ]
  },
  {
   "cell_type": "markdown",
   "metadata": {
    "pycharm": {
     "name": "#%% md\n"
    }
   },
   "source": [
    "# Markdown 链接\n",
    "方法一： [菜鸟教程](https://www.runoob.com)\n",
    "\n",
    "方法二： <https://www.runoob.com>"
   ]
  },
  {
   "cell_type": "code",
   "execution_count": null,
   "metadata": {
    "pycharm": {
     "name": "#%%\n"
    },
    "vscode": {
     "languageId": "html"
    }
   },
   "outputs": [],
   "source": [
    "[链接名称](链接地址)\n",
    "\n",
    "或者\n",
    "\n",
    "<链接地址>"
   ]
  },
  {
   "cell_type": "markdown",
   "metadata": {
    "pycharm": {
     "name": "#%% md\n"
    }
   },
   "source": [
    "***"
   ]
  },
  {
   "attachments": {
    "image.png": {
     "image/png": "[encoded data removed]"
    }
   },
   "cell_type": "markdown",
   "metadata": {
    "pycharm": {
     "name": "#%% md\n"
    }
   },
   "source": [
    "# Markdown 图片\n",
    "方法一：\n",
    "![RUNOOB 图标](https://static.jyshare.com/images/runoob-logo.png)\n",
    "\n",
    "方法二：\n",
    "![RUNOOB 图标](https://static.jyshare.com/images/runoob-logo.png \"RUNOOB\")\n",
    "\n",
    "方法三:直接粘贴\n",
    "![image.png](attachment:image.png)"
   ]
  },
  {
   "cell_type": "code",
   "execution_count": null,
   "metadata": {
    "pycharm": {
     "name": "#%%\n"
    },
    "vscode": {
     "languageId": "html"
    }
   },
   "outputs": [],
   "source": [
    "开头一个感叹号 !\n",
    "接着一个方括号，里面放上图片的替代文字\n",
    "接着一个普通括号，里面放上图片的网址，最后还可以用引号包住并加上选择性的 'title' 属性的文字。\n",
    "\n",
    "![alt 属性文本](图片地址)\n",
    "\n",
    "![alt 属性文本](图片地址 \"可选标题\")"
   ]
  },
  {
   "cell_type": "markdown",
   "metadata": {
    "pycharm": {
     "name": "#%% md\n"
    }
   },
   "source": [
    "***"
   ]
  },
  {
   "cell_type": "markdown",
   "metadata": {
    "pycharm": {
     "name": "#%% md\n"
    }
   },
   "source": [
    "# Markdown 表格\n",
    "## 创建表格\n",
    "使用 | 来分隔不同的单元格，使用 - 来分隔表头和其他行。\n",
    "|  表头   | 表头  |\n",
    "|  ----  | ----  |\n",
    "| 单元格  | 单元格 |\n",
    "| 单元格  | 单元格 |"
   ]
  },
  {
   "cell_type": "code",
   "execution_count": null,
   "metadata": {
    "pycharm": {
     "name": "#%%\n"
    },
    "vscode": {
     "languageId": "html"
    }
   },
   "outputs": [],
   "source": [
    "|  表头   | 表头  |\n",
    "|  ----  | ----  |\n",
    "| 单元格  | 单元格 |\n",
    "| 单元格  | 单元格 |"
   ]
  },
  {
   "cell_type": "markdown",
   "metadata": {
    "pycharm": {
     "name": "#%% md\n"
    }
   },
   "source": [
    "## 对齐方式\n",
    "| 左对齐 | 右对齐 | 居中对齐 |\n",
    "| :-----| ----: | :----: |\n",
    "| 单元格 | 单元格 | 单元格 |\n",
    "| 单元格 | 单元格 | 单元格 |"
   ]
  },
  {
   "cell_type": "code",
   "execution_count": null,
   "metadata": {
    "pycharm": {
     "name": "#%%\n"
    },
    "vscode": {
     "languageId": "html"
    }
   },
   "outputs": [],
   "source": [
    "-: 内容和标题栏居右对齐。\n",
    ":- 居左对齐。\n",
    ":-: 居中对齐。\n",
    "\n",
    "| 左对齐 | 右对齐 | 居中对齐 |\n",
    "| :-----| ----: | :----: |\n",
    "| 单元格 | 单元格 | 单元格 |\n",
    "| 单元格 | 单元格 | 单元格 |"
   ]
  },
  {
   "cell_type": "markdown",
   "metadata": {
    "pycharm": {
     "name": "#%% md\n"
    }
   },
   "source": [
    "***"
   ]
  },
  {
   "cell_type": "markdown",
   "metadata": {
    "pycharm": {
     "name": "#%% md\n"
    }
   },
   "source": [
    "# Markdown 高级技巧\n",
    "## 支持的 HTML 元素\n",
    "不在 Markdown 涵盖范围之内的标签，都可以直接在文档里面用 HTML 撰写。\n",
    "\n",
    "如：\n",
    "使用 <kbd>Ctrl</kbd>+<kbd>Alt</kbd>+<kbd>Del</kbd> 重启电脑"
   ]
  },
  {
   "cell_type": "code",
   "execution_count": null,
   "metadata": {
    "pycharm": {
     "name": "#%%\n"
    },
    "vscode": {
     "languageId": "html"
    }
   },
   "outputs": [],
   "source": [
    "目前支持的 HTML 元素有：<kbd> <b> <i> <em> <sup> <sub> <br>等 ，如：\n",
    "使用 <kbd>Ctrl</kbd>+<kbd>Alt</kbd>+<kbd>Del</kbd> 重启电脑"
   ]
  },
  {
   "cell_type": "markdown",
   "metadata": {
    "pycharm": {
     "name": "#%% md\n"
    }
   },
   "source": [
    "## 转义\n",
    "Markdown 使用反斜杠转义特殊字符：  \n",
    "**文本加粗**   \n",
    "\\*\\* 正常显示星号 \\*\\*"
   ]
  },
  {
   "cell_type": "code",
   "execution_count": null,
   "metadata": {
    "pycharm": {
     "name": "#%%\n"
    },
    "vscode": {
     "languageId": "html"
    }
   },
   "outputs": [],
   "source": [
    "**文本加粗** \n",
    "\\*\\* 正常显示星号 \\*\\*\n",
    "\n",
    "Markdown 支持以下这些符号前面加上反斜杠来帮助插入普通的符号：\n",
    "\\   反斜线\n",
    "`   反引号\n",
    "*   星号\n",
    "_   下划线\n",
    "{}  花括号\n",
    "[]  方括号\n",
    "()  小括号\n",
    "#   井字号\n",
    "+   加号\n",
    "-   减号\n",
    ".   英文句点\n",
    "!   感叹号"
   ]
  },
  {
   "cell_type": "markdown",
   "metadata": {
    "pycharm": {
     "name": "#%% md\n"
    }
   },
   "source": [
    "## 公式\n",
    "使用 KaTeX 或者 MathJax 来渲染数学表达式。\n",
    "\n",
    "KaTeX 拥有比 MathJax 更快的性能，但是它却少了很多 MathJax 拥有的特性。你可以查看KaTeX supported functions/symbols 来了解 KaTeX 支持那些符号和函数。\n",
    "\n",
    "$$\n",
    "\\begin{Bmatrix}\n",
    "   a & b \\\\\n",
    "   c & d\n",
    "\\end{Bmatrix}\n",
    "$$\n",
    "$$\n",
    "\\begin{CD}\n",
    "   A @>a>> B \\\\\n",
    "@VbVV @AAcA \\\\\n",
    "   C @= D\n",
    "\\end{CD}\n",
    "$$"
   ]
  },
  {
   "cell_type": "code",
   "execution_count": null,
   "metadata": {
    "pycharm": {
     "name": "#%%\n"
    }
   },
   "outputs": [],
   "source": [
    "%%\n",
    "默认下的分隔符：\n",
    "    $...$ 或者 \\(...\\) 中的数学表达式将会在行内显示。\n",
    "    $$...$$ 或者 \\[...\\] 或者 ```math 中的数学表达式将会在块内显示。\n",
    "\n",
    "\\begin{Bmatrix}\n",
    "   a & b \\\\\n",
    "   c & d\n",
    "\\end{Bmatrix}\n",
    "$$\n",
    "$$\n",
    "\\begin{CD}\n",
    "   A @>a>> B \\\\\n",
    "@VbVV @AAcA \\\\\n",
    "   C @= D\n",
    "\\end{CD}\n",
    "$$"
   ]
  },
  {
   "cell_type": "markdown",
   "metadata": {
    "pycharm": {
     "name": "#%% md\n"
    }
   },
   "source": [
    "# notebook快捷键\n",
    "- 编辑模式：Enter\n",
    "- 命令模式：Esc\n",
    "- 切换cell：上下方向键\n",
    "- 运行当前cell：Shift + Enter\n",
    "- 代码补全：Tab\n",
    "- 代码提示：Shift + Tab\n",
    "- 查找：ctrl + f\n",
    "- 替换：ctrl + h\n",
    "- 缩进：ctrl + ] \n",
    "- 取消缩进：ctrl + [\n",
    "- 注释：ctrl + /"
   ]
  },
  {
   "cell_type": "markdown",
   "metadata": {},
   "source": [
    "# .md文件预览命令\n",
    "<kbd>Ctrl</kbd>+<kbd>Shift</kbd>+<kbd>P</kbd>\n",
    "\n",
    "`Markdown: Open Preview to the Side`"
   ]
  },
  {
   "cell_type": "markdown",
   "metadata": {},
   "source": [
    "`Markdown: Open Preview to the Side`"
   ]
  }
 ],
 "metadata": {
  "language_info": {
   "name": "python"
  }
 },
 "nbformat": 4,
 "nbformat_minor": 2
}
